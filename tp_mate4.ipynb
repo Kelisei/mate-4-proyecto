{
 "cells": [
  {
   "cell_type": "markdown",
   "id": "aeb8a83d",
   "metadata": {},
   "source": [
    "# Integrantes\n",
    "\n",
    "- Bruschi, Tomas Iago: 21037/2\n",
    "- Gonzalez, Ivan: 21816/3\n",
    "- Percara, Francisco Gonzalo: 21024/7"
   ]
  },
  {
   "cell_type": "markdown",
   "id": "690cc111",
   "metadata": {},
   "source": [
    "# Motivacion de seleccion\n",
    "\n",
    "### Justificación de la selección del dataset *Wine Quality*\n",
    "\n",
    "El dataset *Wine Quality* fue seleccionado por presentar un conjunto de datos **numéricamente consistente, completo y adecuado para el análisis estadístico y la modelización matemática**, alineado con los objetivos de la materia **Matemática IV**.\n",
    "\n",
    "#### 1. Naturaleza del dataset\n",
    "\n",
    "El conjunto contiene exclusivamente **variables numéricas continuas**, lo que permite aplicar directamente herramientas estadísticas y matemáticas sin necesidad de codificación o tratamiento de variables categóricas. Entre las variables se incluyen medidas fisicoquímicas del vino como acidez, pH, densidad, alcohol, sulfatos y cloruros, además de una variable objetivo numérica (*quality*) que representa una evaluación sensorial promedio.\n",
    "Esto facilita el uso de **métodos de regresión lineal, análisis multivariable, correlaciones y normalización**, todos temas centrales en la cursada.\n",
    "\n",
    "#### 2. Ventajas técnicas\n",
    "\n",
    "* **Escalabilidad y limpieza:** no presenta valores faltantes ni inconsistencias, lo que permite concentrarse en el análisis matemático sin tareas extensas de preprocesamiento.\n",
    "* **Dimensionalidad apropiada:** cuenta con alrededor de 1600 observaciones y 11 variables predictoras, cantidad ideal para análisis numéricos en entorno Python.\n",
    "\n",
    "#### 3. Pertinencia con la materia\n",
    "\n",
    "El conjunto de datos posibilita explorar en profundidad conceptos vistos en Matemática III, tales como:\n",
    "\n",
    "* **Correlación y covarianza entre variables.**\n",
    "* **Modelos de regresión lineal múltiple y ajuste de parámetros.**\n",
    "* **Normalización y estandarización de variables.**\n",
    "* **Cálculo de métricas de error, R² y R² ajustado.**"
   ]
  },
  {
   "cell_type": "markdown",
   "id": "688f7336",
   "metadata": {},
   "source": [
    "# Regresión Lineal Simple"
   ]
  },
  {
   "cell_type": "markdown",
   "id": "3066362a-b253-46cf-8156-c05c3ab81bb0",
   "metadata": {},
   "source": [
    "## a) Definir la variable respuesta y las variables predictoras, justificando el motivo de la elección de estas.\n",
    "\n",
    "La variable respuesta será **Quality**, ya que el dataset busca medir la calidad de los vinos tintos en base a sus características principales.\n",
    "\n",
    "Las variables predictoras serán: \n",
    "- **Volatile Acidity**: la acidez volátil (principalmente ácido acético) está asociada a defectos en el vino si es demasiado alta. Niveles elevados producen un sabor y aroma desagradables a vinagre, afectando negativamente la calidad. \n",
    "- **Density**: está estrechamente relacionada con el contenido de azúcar y alcohol. Los vinos con menor densidad suelen tener un mayor contenido alcohólico (ya que el azúcar se transformó en alcohol), lo que generalmente indica un proceso de fermentación completo y buena calidad. \n",
    "- **Sulphates**: actúan como conservantes y antioxidantes. Una cantidad equilibrada ayuda a mantener la frescura y estabilidad del vino, mientras que un exceso puede alterar su aroma y sabor. Los vinos de alta calidad tienden a tener un nivel adecuado de sulfitos. \n",
    "- **Alcohol**: es uno de los factores más directamente correlacionados con la calidad. Los vinos con mayor contenido alcohólico suelen percibirse como de mejor calidad debido a su cuerpo, aroma y persistencia en boca.\n",
    "- **Citric Acid**: aporta frescura y estabilidad al vino. Una cantidad moderada se asocia con una mejor calidad sensorial, ya que contribuye al equilibrio del sabor."
   ]
  },
  {
   "cell_type": "markdown",
   "id": "18241594-ca4b-4641-855d-906962f7e820",
   "metadata": {},
   "source": [
    "## b) Realizar un análisis de regresión lineal simple entre la variable respuesta y cada variable predictora.\n"
   ]
  },
  {
   "cell_type": "markdown",
   "id": "33f6fab1-a2f9-49a8-bda8-54b4488645ef",
   "metadata": {},
   "source": [
    "### Importo el Dataset"
   ]
  },
  {
   "cell_type": "code",
   "execution_count": 1,
   "id": "7bd96ae6",
   "metadata": {
    "scrolled": true
   },
   "outputs": [
    {
     "data": {
      "text/markdown": [
       "### Variable Respuesta"
      ],
      "text/plain": [
       "<IPython.core.display.Markdown object>"
      ]
     },
     "metadata": {},
     "output_type": "display_data"
    },
    {
     "data": {
      "text/html": [
       "<div>\n",
       "<style scoped>\n",
       "    .dataframe tbody tr th:only-of-type {\n",
       "        vertical-align: middle;\n",
       "    }\n",
       "\n",
       "    .dataframe tbody tr th {\n",
       "        vertical-align: top;\n",
       "    }\n",
       "\n",
       "    .dataframe thead th {\n",
       "        text-align: right;\n",
       "    }\n",
       "</style>\n",
       "<table border=\"1\" class=\"dataframe\">\n",
       "  <thead>\n",
       "    <tr style=\"text-align: right;\">\n",
       "      <th></th>\n",
       "      <th>quality</th>\n",
       "    </tr>\n",
       "  </thead>\n",
       "  <tbody>\n",
       "    <tr>\n",
       "      <th>0</th>\n",
       "      <td>5</td>\n",
       "    </tr>\n",
       "    <tr>\n",
       "      <th>1</th>\n",
       "      <td>5</td>\n",
       "    </tr>\n",
       "    <tr>\n",
       "      <th>2</th>\n",
       "      <td>5</td>\n",
       "    </tr>\n",
       "    <tr>\n",
       "      <th>3</th>\n",
       "      <td>6</td>\n",
       "    </tr>\n",
       "    <tr>\n",
       "      <th>4</th>\n",
       "      <td>5</td>\n",
       "    </tr>\n",
       "    <tr>\n",
       "      <th>...</th>\n",
       "      <td>...</td>\n",
       "    </tr>\n",
       "    <tr>\n",
       "      <th>1594</th>\n",
       "      <td>5</td>\n",
       "    </tr>\n",
       "    <tr>\n",
       "      <th>1595</th>\n",
       "      <td>6</td>\n",
       "    </tr>\n",
       "    <tr>\n",
       "      <th>1596</th>\n",
       "      <td>6</td>\n",
       "    </tr>\n",
       "    <tr>\n",
       "      <th>1597</th>\n",
       "      <td>5</td>\n",
       "    </tr>\n",
       "    <tr>\n",
       "      <th>1598</th>\n",
       "      <td>6</td>\n",
       "    </tr>\n",
       "  </tbody>\n",
       "</table>\n",
       "<p>1599 rows × 1 columns</p>\n",
       "</div>"
      ],
      "text/plain": [
       "      quality\n",
       "0           5\n",
       "1           5\n",
       "2           5\n",
       "3           6\n",
       "4           5\n",
       "...       ...\n",
       "1594        5\n",
       "1595        6\n",
       "1596        6\n",
       "1597        5\n",
       "1598        6\n",
       "\n",
       "[1599 rows x 1 columns]"
      ]
     },
     "metadata": {},
     "output_type": "display_data"
    },
    {
     "data": {
      "text/markdown": [
       "### Variables Predictoras"
      ],
      "text/plain": [
       "<IPython.core.display.Markdown object>"
      ]
     },
     "metadata": {},
     "output_type": "display_data"
    },
    {
     "data": {
      "text/html": [
       "<div>\n",
       "<style scoped>\n",
       "    .dataframe tbody tr th:only-of-type {\n",
       "        vertical-align: middle;\n",
       "    }\n",
       "\n",
       "    .dataframe tbody tr th {\n",
       "        vertical-align: top;\n",
       "    }\n",
       "\n",
       "    .dataframe thead th {\n",
       "        text-align: right;\n",
       "    }\n",
       "</style>\n",
       "<table border=\"1\" class=\"dataframe\">\n",
       "  <thead>\n",
       "    <tr style=\"text-align: right;\">\n",
       "      <th></th>\n",
       "      <th>volatile acidity</th>\n",
       "      <th>density</th>\n",
       "      <th>sulphates</th>\n",
       "      <th>alcohol</th>\n",
       "      <th>citric acid</th>\n",
       "    </tr>\n",
       "  </thead>\n",
       "  <tbody>\n",
       "    <tr>\n",
       "      <th>0</th>\n",
       "      <td>0.700</td>\n",
       "      <td>0.99780</td>\n",
       "      <td>0.56</td>\n",
       "      <td>9.4</td>\n",
       "      <td>0.00</td>\n",
       "    </tr>\n",
       "    <tr>\n",
       "      <th>1</th>\n",
       "      <td>0.880</td>\n",
       "      <td>0.99680</td>\n",
       "      <td>0.68</td>\n",
       "      <td>9.8</td>\n",
       "      <td>0.00</td>\n",
       "    </tr>\n",
       "    <tr>\n",
       "      <th>2</th>\n",
       "      <td>0.760</td>\n",
       "      <td>0.99700</td>\n",
       "      <td>0.65</td>\n",
       "      <td>9.8</td>\n",
       "      <td>0.04</td>\n",
       "    </tr>\n",
       "    <tr>\n",
       "      <th>3</th>\n",
       "      <td>0.280</td>\n",
       "      <td>0.99800</td>\n",
       "      <td>0.58</td>\n",
       "      <td>9.8</td>\n",
       "      <td>0.56</td>\n",
       "    </tr>\n",
       "    <tr>\n",
       "      <th>4</th>\n",
       "      <td>0.700</td>\n",
       "      <td>0.99780</td>\n",
       "      <td>0.56</td>\n",
       "      <td>9.4</td>\n",
       "      <td>0.00</td>\n",
       "    </tr>\n",
       "    <tr>\n",
       "      <th>...</th>\n",
       "      <td>...</td>\n",
       "      <td>...</td>\n",
       "      <td>...</td>\n",
       "      <td>...</td>\n",
       "      <td>...</td>\n",
       "    </tr>\n",
       "    <tr>\n",
       "      <th>1594</th>\n",
       "      <td>0.600</td>\n",
       "      <td>0.99490</td>\n",
       "      <td>0.58</td>\n",
       "      <td>10.5</td>\n",
       "      <td>0.08</td>\n",
       "    </tr>\n",
       "    <tr>\n",
       "      <th>1595</th>\n",
       "      <td>0.550</td>\n",
       "      <td>0.99512</td>\n",
       "      <td>0.76</td>\n",
       "      <td>11.2</td>\n",
       "      <td>0.10</td>\n",
       "    </tr>\n",
       "    <tr>\n",
       "      <th>1596</th>\n",
       "      <td>0.510</td>\n",
       "      <td>0.99574</td>\n",
       "      <td>0.75</td>\n",
       "      <td>11.0</td>\n",
       "      <td>0.13</td>\n",
       "    </tr>\n",
       "    <tr>\n",
       "      <th>1597</th>\n",
       "      <td>0.645</td>\n",
       "      <td>0.99547</td>\n",
       "      <td>0.71</td>\n",
       "      <td>10.2</td>\n",
       "      <td>0.12</td>\n",
       "    </tr>\n",
       "    <tr>\n",
       "      <th>1598</th>\n",
       "      <td>0.310</td>\n",
       "      <td>0.99549</td>\n",
       "      <td>0.66</td>\n",
       "      <td>11.0</td>\n",
       "      <td>0.47</td>\n",
       "    </tr>\n",
       "  </tbody>\n",
       "</table>\n",
       "<p>1599 rows × 5 columns</p>\n",
       "</div>"
      ],
      "text/plain": [
       "      volatile acidity  density  sulphates  alcohol  citric acid\n",
       "0                0.700  0.99780       0.56      9.4         0.00\n",
       "1                0.880  0.99680       0.68      9.8         0.00\n",
       "2                0.760  0.99700       0.65      9.8         0.04\n",
       "3                0.280  0.99800       0.58      9.8         0.56\n",
       "4                0.700  0.99780       0.56      9.4         0.00\n",
       "...                ...      ...        ...      ...          ...\n",
       "1594             0.600  0.99490       0.58     10.5         0.08\n",
       "1595             0.550  0.99512       0.76     11.2         0.10\n",
       "1596             0.510  0.99574       0.75     11.0         0.13\n",
       "1597             0.645  0.99547       0.71     10.2         0.12\n",
       "1598             0.310  0.99549       0.66     11.0         0.47\n",
       "\n",
       "[1599 rows x 5 columns]"
      ]
     },
     "metadata": {},
     "output_type": "display_data"
    }
   ],
   "source": [
    "# importo las librerias necesarias\n",
    "import pandas as pd\n",
    "from scipy.stats import t\n",
    "from sympy import symbols, sqrt\n",
    "import numpy as np\n",
    "from IPython.display import Markdown\n",
    "\n",
    "# abro el dataset\n",
    "df= pd.read_csv('winequality-red.csv', delimiter=';')\n",
    "\n",
    "#asigno variable respuesta\n",
    "display(Markdown(\"### Variable Respuesta\"))\n",
    "display(df[[\"quality\"]])\n",
    "y = df[\"quality\"]\n",
    "\n",
    "#asigno variables predictoras\n",
    "variables_predictoras = df[['volatile acidity', 'density', 'sulphates', 'alcohol', 'citric acid']]\n",
    "display(Markdown(\"### Variables Predictoras\"))\n",
    "display(variables_predictoras)"
   ]
  },
  {
   "cell_type": "markdown",
   "id": "03c1f4ef",
   "metadata": {},
   "source": [
    "### Función de Regresion Lineal Simple"
   ]
  },
  {
   "cell_type": "markdown",
   "id": "24d38c0e",
   "metadata": {},
   "source": [
    "## Seleccion de X*\n",
    "\n",
    "1. Criterio metodológico\n",
    "\n",
    "El valor máximo de la variable independiente se encuentra dentro del rango empírico de observaciones, lo que garantiza la validez estadística del modelo y evita extrapolaciones.\n",
    "Seleccionar el extremo superior permite analizar el comportamiento del modelo en el límite de los datos observados, manteniendo la coherencia con la información real disponible.\n",
    "\n",
    "2. Criterio interpretativo\n",
    "\n",
    "Desde un punto de vista analítico, el valor máximo de la variable predictora representa la situación de mayor intensidad o concentración del factor bajo estudio (por ejemplo, el nivel más alto de alcohol, acidez o sulfatos).\n",
    "Esto permite evaluar el impacto máximo estimado de dicha característica sobre la variable dependiente (quality), ofreciendo una interpretación más tangible del efecto de la variable explicativa.\n",
    "\n",
    "3. Consistencia entre modelos\n",
    "\n",
    "Además, mantener el mismo criterio de selección (\n",
    "𝑥∗=max(X)) en todas las regresiones asegura homogeneidad en la comparación de resultados entre las distintas variables predictoras, ya que todos los modelos se evalúan en el punto de mayor valor observado."
   ]
  },
  {
   "cell_type": "code",
   "execution_count": 2,
   "id": "0516ad12",
   "metadata": {},
   "outputs": [],
   "source": [
    "# Declaro variables generales\n",
    "alpha = 0.05\n",
    "n = len(y)\n",
    "t_critico = t.ppf(1-alpha/2, n-2)\n",
    "\n",
    "y_promedio = y.mean()\n",
    "Syy = ((y - y_promedio) ** 2).sum()\n",
    "\n",
    "# Funcion para calcular todos los valores que se piden a la variable predictora\n",
    "def regresion_lineal(X, x, punto_x):\n",
    "    \n",
    "    # Declaro variables locales\n",
    "    x_promedio = X.mean()\n",
    "    Sxx = ((X - x_promedio) ** 2).sum()\n",
    "    Sxy = ((X - x_promedio) * (y - y_promedio)).sum()\n",
    "    b1 = (Sxy / Sxx).round(4)\n",
    "    b0 = (y_promedio - b1 * x_promedio).round(4)\n",
    "    SSR = Syy - b1 * Sxy\n",
    "\n",
    "    # Calculo ŷ\n",
    "    y_estimado = b1*x + b0\n",
    "\n",
    "    # Calculo Varianza Estimada \n",
    "    varianza_estimada = (SSR / (n - 2)).round(4)\n",
    "\n",
    "    # Calculo Coeficiente de Determinación\n",
    "    R2 = (1 - (SSR / Syy)).round(4)\n",
    "\n",
    "    # Calculo Coeficiente de Correlación Lineal\n",
    "    r = (sqrt(R2)).round(4)\n",
    "\n",
    "    # Calculo IC(β₀)\n",
    "    e_b0 = t_critico * sqrt(varianza_estimada * (1/n + (x_promedio**2 / Sxx)))\n",
    "    IC_b0_superior = (b0 + e_b0).round(4)\n",
    "    IC_b0_inferior = (b0 - e_b0).round(4)\n",
    "\n",
    "    # Calculo IC(β₁)\n",
    "    e_b1 = t_critico * sqrt(varianza_estimada / Sxx)\n",
    "    IC_b1_superior = (b1 + e_b1).round(4)\n",
    "    IC_b1_inferior = (b1 - e_b1).round(4)\n",
    "\n",
    "    # Calculo ICM(Y)\n",
    "    e_media = t_critico * sqrt(varianza_estimada * (1/n + ((punto_x - x_promedio)**2 / Sxx))) \n",
    "    IC_media_superior = (b0 + b1*punto_x + e_media).round(4) \n",
    "    IC_media_inferior = (b0 + b1*punto_x - e_media).round(4) \n",
    "\n",
    "    # Calculo IP(Y)\n",
    "    punto_y = (y_estimado.evalf(subs = {x: punto_x})).round(4)\n",
    "    e_pred = t_critico * sqrt(varianza_estimada * (1 + 1/n + ((punto_x - x_promedio)**2 / Sxx))) \n",
    "    IC_pred_superior = (punto_y + e_pred).round(4) \n",
    "    IC_pred_inferior = (punto_y - e_pred).round(4) \n",
    "\n",
    "\n",
    "    display(Markdown(f\"ŷ = {y_estimado}\"))\n",
    "    display(Markdown(f'Varianza estimada: {varianza_estimada}'))\n",
    "    display(Markdown(f'R²: {R2}'))\n",
    "    display(Markdown(f'r (correlación): {r}\\n'))\n",
    "    display(Markdown(f'IC(β₀): ({IC_b0_inferior}, {IC_b0_superior})'))\n",
    "    display(Markdown(f'IC(β₁): ({IC_b1_inferior}, {IC_b1_superior})'))\n",
    "    display(Markdown(f'ICM(Y) para x={punto_x}: ({IC_media_inferior}, {IC_media_superior})'))\n",
    "    display(Markdown(f'IP(Y) para x={punto_x}, y={punto_y}: ({IC_pred_inferior}, {IC_pred_superior})\\n'))"
   ]
  },
  {
   "cell_type": "markdown",
   "id": "4ddb08a6",
   "metadata": {},
   "source": [
    "### Regresión Lineal Simple entre Volatile Acidity y Quality"
   ]
  },
  {
   "cell_type": "code",
   "execution_count": 3,
   "id": "490a9852-93e2-4479-b468-e737754db48e",
   "metadata": {},
   "outputs": [
    {
     "data": {
      "text/markdown": [
       "ŷ = 6.5657 - 1.7614*x1"
      ],
      "text/plain": [
       "<IPython.core.display.Markdown object>"
      ]
     },
     "metadata": {},
     "output_type": "display_data"
    },
    {
     "data": {
      "text/markdown": [
       "Varianza estimada: 0.553"
      ],
      "text/plain": [
       "<IPython.core.display.Markdown object>"
      ]
     },
     "metadata": {},
     "output_type": "display_data"
    },
    {
     "data": {
      "text/markdown": [
       "R²: 0.1525"
      ],
      "text/plain": [
       "<IPython.core.display.Markdown object>"
      ]
     },
     "metadata": {},
     "output_type": "display_data"
    },
    {
     "data": {
      "text/markdown": [
       "r (correlación): 0.3905\n"
      ],
      "text/plain": [
       "<IPython.core.display.Markdown object>"
      ]
     },
     "metadata": {},
     "output_type": "display_data"
    },
    {
     "data": {
      "text/markdown": [
       "IC(β₀): (6.4521, 6.6793)"
      ],
      "text/plain": [
       "<IPython.core.display.Markdown object>"
      ]
     },
     "metadata": {},
     "output_type": "display_data"
    },
    {
     "data": {
      "text/markdown": [
       "IC(β₁): (-1.9652, -1.5576)"
      ],
      "text/plain": [
       "<IPython.core.display.Markdown object>"
      ]
     },
     "metadata": {},
     "output_type": "display_data"
    },
    {
     "data": {
      "text/markdown": [
       "ICM(Y) para x=1.58: (3.5652, 4.0002)"
      ],
      "text/plain": [
       "<IPython.core.display.Markdown object>"
      ]
     },
     "metadata": {},
     "output_type": "display_data"
    },
    {
     "data": {
      "text/markdown": [
       "IP(Y) para x=1.58, y=3.7827: (2.3080, 5.2574)\n"
      ],
      "text/plain": [
       "<IPython.core.display.Markdown object>"
      ]
     },
     "metadata": {},
     "output_type": "display_data"
    }
   ],
   "source": [
    "# Calculo la regresion lineal para Volatile Acidity\n",
    "x1 = symbols('x1', real=True)\n",
    "volatile_acidity = variables_predictoras['volatile acidity']\n",
    "x1_punto = volatile_acidity.max()\n",
    "regresion_lineal(volatile_acidity,x1,x1_punto)"
   ]
  },
  {
   "cell_type": "markdown",
   "id": "09f668b1",
   "metadata": {},
   "source": [
    "### Regresión Lineal Simple entre Density y Quality"
   ]
  },
  {
   "cell_type": "code",
   "execution_count": 4,
   "id": "54a6e469",
   "metadata": {},
   "outputs": [
    {
     "data": {
      "text/markdown": [
       "ŷ = 80.2385 - 74.846*x2"
      ],
      "text/plain": [
       "<IPython.core.display.Markdown object>"
      ]
     },
     "metadata": {},
     "output_type": "display_data"
    },
    {
     "data": {
      "text/markdown": [
       "Varianza estimada: 0.6326"
      ],
      "text/plain": [
       "<IPython.core.display.Markdown object>"
      ]
     },
     "metadata": {},
     "output_type": "display_data"
    },
    {
     "data": {
      "text/markdown": [
       "R²: 0.0306"
      ],
      "text/plain": [
       "<IPython.core.display.Markdown object>"
      ]
     },
     "metadata": {},
     "output_type": "display_data"
    },
    {
     "data": {
      "text/markdown": [
       "r (correlación): 0.1749\n"
      ],
      "text/plain": [
       "<IPython.core.display.Markdown object>"
      ]
     },
     "metadata": {},
     "output_type": "display_data"
    },
    {
     "data": {
      "text/markdown": [
       "IC(β₀): (59.6279, 100.8491)"
      ],
      "text/plain": [
       "<IPython.core.display.Markdown object>"
      ]
     },
     "metadata": {},
     "output_type": "display_data"
    },
    {
     "data": {
      "text/markdown": [
       "IC(β₁): (-95.5238, -54.1682)"
      ],
      "text/plain": [
       "<IPython.core.display.Markdown object>"
      ]
     },
     "metadata": {},
     "output_type": "display_data"
    },
    {
     "data": {
      "text/markdown": [
       "ICM(Y) para x=1.00369: (4.9675, 5.2651)"
      ],
      "text/plain": [
       "<IPython.core.display.Markdown object>"
      ]
     },
     "metadata": {},
     "output_type": "display_data"
    },
    {
     "data": {
      "text/markdown": [
       "IP(Y) para x=1.00369, y=5.1163: (3.5492, 6.6834)\n"
      ],
      "text/plain": [
       "<IPython.core.display.Markdown object>"
      ]
     },
     "metadata": {},
     "output_type": "display_data"
    }
   ],
   "source": [
    "# Calculo la regresion lineal para Density\n",
    "x2 = symbols('x2', real=True)\n",
    "density = variables_predictoras['density']\n",
    "x2_punto = density.max()\n",
    "regresion_lineal(density,x2,x2_punto)"
   ]
  },
  {
   "cell_type": "markdown",
   "id": "a100f65a",
   "metadata": {},
   "source": [
    "### Regresión Lineal Simple entre Sulphates y Quality"
   ]
  },
  {
   "cell_type": "code",
   "execution_count": 5,
   "id": "e2fde30c",
   "metadata": {},
   "outputs": [
    {
     "data": {
      "text/markdown": [
       "ŷ = 1.1977*x3 + 4.8478"
      ],
      "text/plain": [
       "<IPython.core.display.Markdown object>"
      ]
     },
     "metadata": {},
     "output_type": "display_data"
    },
    {
     "data": {
      "text/markdown": [
       "Varianza estimada: 0.6113"
      ],
      "text/plain": [
       "<IPython.core.display.Markdown object>"
      ]
     },
     "metadata": {},
     "output_type": "display_data"
    },
    {
     "data": {
      "text/markdown": [
       "R²: 0.0632"
      ],
      "text/plain": [
       "<IPython.core.display.Markdown object>"
      ]
     },
     "metadata": {},
     "output_type": "display_data"
    },
    {
     "data": {
      "text/markdown": [
       "r (correlación): 0.2514\n"
      ],
      "text/plain": [
       "<IPython.core.display.Markdown object>"
      ]
     },
     "metadata": {},
     "output_type": "display_data"
    },
    {
     "data": {
      "text/markdown": [
       "IC(β₀): (4.6940, 5.0016)"
      ],
      "text/plain": [
       "<IPython.core.display.Markdown object>"
      ]
     },
     "metadata": {},
     "output_type": "display_data"
    },
    {
     "data": {
      "text/markdown": [
       "IC(β₁): (0.9714, 1.4240)"
      ],
      "text/plain": [
       "<IPython.core.display.Markdown object>"
      ]
     },
     "metadata": {},
     "output_type": "display_data"
    },
    {
     "data": {
      "text/markdown": [
       "ICM(Y) para x=2.0: (6.9371, 7.5493)"
      ],
      "text/plain": [
       "<IPython.core.display.Markdown object>"
      ]
     },
     "metadata": {},
     "output_type": "display_data"
    },
    {
     "data": {
      "text/markdown": [
       "IP(Y) para x=2.0, y=7.2432: (5.6794, 8.8070)\n"
      ],
      "text/plain": [
       "<IPython.core.display.Markdown object>"
      ]
     },
     "metadata": {},
     "output_type": "display_data"
    }
   ],
   "source": [
    "# Calculo la regresion lineal para Sulphates\n",
    "x3 = symbols('x3', real=True)\n",
    "sulphates = variables_predictoras['sulphates']\n",
    "x3_punto = sulphates.max()\n",
    "regresion_lineal(sulphates,x3,x3_punto)"
   ]
  },
  {
   "cell_type": "markdown",
   "id": "a24496bb",
   "metadata": {},
   "source": [
    "### Regresión Lineal Simple entre Alcohol y Quality"
   ]
  },
  {
   "cell_type": "code",
   "execution_count": 6,
   "id": "cb28488d",
   "metadata": {},
   "outputs": [
    {
     "data": {
      "text/markdown": [
       "ŷ = 0.3608*x4 + 1.8754"
      ],
      "text/plain": [
       "<IPython.core.display.Markdown object>"
      ]
     },
     "metadata": {},
     "output_type": "display_data"
    },
    {
     "data": {
      "text/markdown": [
       "Varianza estimada: 0.5046"
      ],
      "text/plain": [
       "<IPython.core.display.Markdown object>"
      ]
     },
     "metadata": {},
     "output_type": "display_data"
    },
    {
     "data": {
      "text/markdown": [
       "R²: 0.2267"
      ],
      "text/plain": [
       "<IPython.core.display.Markdown object>"
      ]
     },
     "metadata": {},
     "output_type": "display_data"
    },
    {
     "data": {
      "text/markdown": [
       "r (correlación): 0.4761\n"
      ],
      "text/plain": [
       "<IPython.core.display.Markdown object>"
      ]
     },
     "metadata": {},
     "output_type": "display_data"
    },
    {
     "data": {
      "text/markdown": [
       "IC(β₀): (1.5327, 2.2181)"
      ],
      "text/plain": [
       "<IPython.core.display.Markdown object>"
      ]
     },
     "metadata": {},
     "output_type": "display_data"
    },
    {
     "data": {
      "text/markdown": [
       "IC(β₁): (0.3281, 0.3935)"
      ],
      "text/plain": [
       "<IPython.core.display.Markdown object>"
      ]
     },
     "metadata": {},
     "output_type": "display_data"
    },
    {
     "data": {
      "text/markdown": [
       "ICM(Y) para x=14.9: (7.1008, 7.4018)"
      ],
      "text/plain": [
       "<IPython.core.display.Markdown object>"
      ]
     },
     "metadata": {},
     "output_type": "display_data"
    },
    {
     "data": {
      "text/markdown": [
       "IP(Y) para x=14.9, y=7.2513: (5.8499, 8.6527)\n"
      ],
      "text/plain": [
       "<IPython.core.display.Markdown object>"
      ]
     },
     "metadata": {},
     "output_type": "display_data"
    }
   ],
   "source": [
    "# Calculo la regresion lineal para Alcohol\n",
    "x4 = symbols('x4', real=True)\n",
    "alcohol = variables_predictoras['alcohol']\n",
    "x4_punto = alcohol.max()\n",
    "regresion_lineal(alcohol,x4,x4_punto)"
   ]
  },
  {
   "cell_type": "markdown",
   "id": "5917bab5",
   "metadata": {},
   "source": [
    "### Regresión Lineal Simple entre Citric Acid y Quality"
   ]
  },
  {
   "cell_type": "code",
   "execution_count": 7,
   "id": "5ac49649",
   "metadata": {},
   "outputs": [
    {
     "data": {
      "text/markdown": [
       "ŷ = 0.9385*x5 + 5.3817"
      ],
      "text/plain": [
       "<IPython.core.display.Markdown object>"
      ]
     },
     "metadata": {},
     "output_type": "display_data"
    },
    {
     "data": {
      "text/markdown": [
       "Varianza estimada: 0.6191"
      ],
      "text/plain": [
       "<IPython.core.display.Markdown object>"
      ]
     },
     "metadata": {},
     "output_type": "display_data"
    },
    {
     "data": {
      "text/markdown": [
       "R²: 0.0512"
      ],
      "text/plain": [
       "<IPython.core.display.Markdown object>"
      ]
     },
     "metadata": {},
     "output_type": "display_data"
    },
    {
     "data": {
      "text/markdown": [
       "r (correlación): 0.2263\n"
      ],
      "text/plain": [
       "<IPython.core.display.Markdown object>"
      ]
     },
     "metadata": {},
     "output_type": "display_data"
    },
    {
     "data": {
      "text/markdown": [
       "IC(β₀): (5.3156, 5.4478)"
      ],
      "text/plain": [
       "<IPython.core.display.Markdown object>"
      ]
     },
     "metadata": {},
     "output_type": "display_data"
    },
    {
     "data": {
      "text/markdown": [
       "IC(β₁): (0.7403, 1.1367)"
      ],
      "text/plain": [
       "<IPython.core.display.Markdown object>"
      ]
     },
     "metadata": {},
     "output_type": "display_data"
    },
    {
     "data": {
      "text/markdown": [
       "ICM(Y) para x=1.0: (6.1706, 6.4698)"
      ],
      "text/plain": [
       "<IPython.core.display.Markdown object>"
      ]
     },
     "metadata": {},
     "output_type": "display_data"
    },
    {
     "data": {
      "text/markdown": [
       "IP(Y) para x=1.0, y=6.3202: (4.7696, 7.8708)\n"
      ],
      "text/plain": [
       "<IPython.core.display.Markdown object>"
      ]
     },
     "metadata": {},
     "output_type": "display_data"
    }
   ],
   "source": [
    "# Calculo la regresion lineal para Citric Acid\n",
    "x5 = symbols('x5', real=True)\n",
    "citric_acid = variables_predictoras['citric acid']\n",
    "x5_punto = citric_acid.max()\n",
    "regresion_lineal(citric_acid,x5,x5_punto)"
   ]
  },
  {
   "cell_type": "markdown",
   "id": "a230ad4b-e5b5-4404-83db-4a3182014bd5",
   "metadata": {},
   "source": [
    "### Tabla resumen"
   ]
  },
  {
   "cell_type": "markdown",
   "id": "1caf82cf-f7e1-4361-9589-4d089af2a1ee",
   "metadata": {},
   "source": [
    "| $Y$          | $\\hat{y}$      | $\\hat{σ^2}$       | $R^2$     | $r$      | IC($β₀$)             | IC($β₁$)             | ICM($Y$)                | IP($Y$)                 |\n",
    "|-------------------|---------|-----------|--------|--------|------------------|------------------|---------------------|---------------------|\n",
    "| Volatile Acidity ($x_1$)                | -1.7614*$x_1$ + 6.5657  | 0.553    | 0.1525 | 0.3905 | (6.4521, 6.6793) | (-1.9652, -1.5576) | (3.5651, 4.0001)    | (2.3078, 5.2574)    |\n",
    "| Density ($x_2$)                | -74.846*$x_2$ + 80.2385  | 0.6326    | 0.0305 | 0.1749 | (59.6279, 100.8491) | (-95.5238, -54.1682) | (4.9675, 5.2651)    | (3.5491, 6.6834)    |\n",
    "| Sulphates ($x_3$)                | 1.1977*$x_3$ + 4.8477  | 0.6113    | 0.0632 | 0.2513 | (4.6940, 5.0016) | (0.9713, 1.424) | (6.937, 7.5492)    | (5.6793, 8.807)    |\n",
    "| Alcohol ($x_4$)                | 0.3608*$x_4$ + 1.8749|  0.5046| 0.2267| 0.4761| (1.5327,  2.2181) | (0.3281, 0.3935) | (7.1009, 7.4020)    | (5.8500, 8.6529)    |\n",
    "| Citric Acid ($x_5$)                | 0.9384*$x_5$ + 5.3817  | 0.6191    | 0.0512| 0.2263| (5.3156, 5.4478) | (0.7402, 1.1366) | (6.1706, 6.4697)    | (4.7695, 7.8707)    |"
   ]
  },
  {
   "cell_type": "markdown",
   "id": "7e630bcb-fe31-48dd-b9ce-0775c9d440a2",
   "metadata": {},
   "source": [
    "## c) Seleccionar la variable predictora que mejor responde a la variable respuesta y comentar los resultados obtenidos en el cuadro sobre la misma.\n",
    "\n",
    "Para saber que variable responde mejor, hay que analizar el **coeficiente de correlación lineal** de cada variable predictora. En base a la tabla, tenemos que:\n",
    "\n",
    "$|r_4| > |r_1|, |r_2|, |r_3|, |r_5|$\n",
    "\n",
    "Por lo que la variable **Alcohol** ($x_4$) es la que mejor responde a **Quality**"
   ]
  },
  {
   "cell_type": "markdown",
   "id": "301d4d58",
   "metadata": {},
   "source": [
    "# Regresión Lineal Múltiple"
   ]
  },
  {
   "cell_type": "markdown",
   "id": "f65ed9b1",
   "metadata": {},
   "source": [
    "## d) Estimar la ecuación de regresión usando el método de descenso del gradiente.\n",
    "\n",
    "El método de descenso del gradiente se basa en la optimización iterativa de los parámetros del modelo.\n",
    " A partir de un valor inicial de los coeficientes, el algoritmo ajusta los parámetros en la dirección opuesta al gradiente de la función de costo (error cuadrático medio), con el objetivo de minimizar el error global.\n",
    "Este enfoque no depende de la resolución analítica de un sistema de ecuaciones, sino que ajusta los parámetros gradualmente hasta alcanzar la convergencia. Por eso es especialmente útil cuando se trabaja con grandes volúmenes de datos o cuando el cálculo matricial exacto resulta costoso computacionalmente."
   ]
  },
  {
   "cell_type": "markdown",
   "id": "ec7408c5",
   "metadata": {},
   "source": [
    "### Variables Generales"
   ]
  },
  {
   "cell_type": "code",
   "execution_count": null,
   "id": "06b621df",
   "metadata": {},
   "outputs": [],
   "source": [
    "normalized = (variables_predictoras - variables_predictoras.mean()) / variables_predictoras.std()"
   ]
  },
  {
   "cell_type": "markdown",
   "id": "9b523b42",
   "metadata": {},
   "source": [
    "### Descenso de Gradiente"
   ]
  },
  {
   "cell_type": "code",
   "execution_count": 54,
   "id": "7a12ef02",
   "metadata": {},
   "outputs": [
    {
     "name": "stdout",
     "output_type": "stream",
     "text": [
      "Coeficientes estimados: [ 5.6357792  -0.22613062  0.0178916   0.11597664  0.33703191 -0.0190865 ]\n",
      "ŷ = -0.2261*x1 + 0.0179*x2 + 0.116*x3 + 0.337*x4 - 0.0191*x5 + 5.6358\n"
     ]
    }
   ],
   "source": [
    "# REGRESION LINEAL MULTIPLE\n",
    "\n",
    "# Agregar columna de 1s para el intercepto\n",
    "X_b = np.c_[np.ones((normalized.shape[0], 1)), normalized]\n",
    "\n",
    "# Inicialización\n",
    "m, n = X_b.shape\n",
    "beta_grad = np.zeros(n)\n",
    "alpha = 0.01\n",
    "epochs = 1000\n",
    "min_err = 1e-6\n",
    "# Descenso del gradiente\n",
    "for epoch in range(epochs):\n",
    "    y_pred = X_b.dot(beta_grad)\n",
    "    error = y_pred - y\n",
    "    grad = (1/m) * X_b.T.dot(error)\n",
    "    beta_grad -= alpha * grad\n",
    "\n",
    "    # Verificar si el error es menor que el mínimo permitido\n",
    "    if np.linalg.norm(grad, ord=1) < min_err:\n",
    "        print(f\"Convergió en la época {epoch}\")\n",
    "        break\n",
    "\n",
    "print(\"Coeficientes estimados:\", beta_grad)\n",
    "y_predicted = beta_grad[0].round(4) + beta_grad[1].round(4)*x1 + beta_grad[2].round(4)*x2 + beta_grad[3].round(4)*x3 + beta_grad[4].round(4)*x4 + beta_grad[5].round(4)*x5\n",
    "print(\"ŷ =\", y_predicted)\n",
    "y_pred_grad = X_b.dot(beta_grad)"
   ]
  },
  {
   "cell_type": "markdown",
   "id": "02919f68",
   "metadata": {},
   "source": [
    "## e) Estimar la ecuación de regresión usando el método de mínimos cuadrados. Comentar los resultados obtenidos por ambos métodos.\n",
    "\n",
    "El método de mínimos cuadrados calcula directamente los coeficientes que minimizan la suma de los errores al cuadrado, resolviendo el sistema normal de ecuaciones de forma exacta y determinística.\n",
    " A diferencia del descenso del gradiente, este procedimiento no depende de una tasa de aprendizaje ni de iteraciones sucesivas, por lo que ofrece una solución única y estable cuando las condiciones del modelo son adecuadas.\n"
   ]
  },
  {
   "cell_type": "markdown",
   "id": "1258d94f",
   "metadata": {},
   "source": [
    "### Mínimos Cuadrados"
   ]
  },
  {
   "cell_type": "code",
   "execution_count": 53,
   "id": "03bdb60c",
   "metadata": {},
   "outputs": [
    {
     "name": "stdout",
     "output_type": "stream",
     "text": [
      "Coeficientes estimados: [ 5.63602251 -0.23304422  0.02850916  0.11520628  0.34407703 -0.03019699]\n",
      "ŷ = -0.233*x1 + 0.0285*x2 + 0.1152*x3 + 0.3441*x4 - 0.0302*x5 + 5.636\n"
     ]
    }
   ],
   "source": [
    "# Cálculo de los coeficientes usando minimos cuadrados\n",
    "\n",
    "# Añadimos columna de 1s para el intercepto\n",
    "Z_b = np.c_[np.ones(normalized.shape[0]), normalized]\n",
    "# Coeficientes de regresión\n",
    "beta_cuad = np.linalg.inv(Z_b.T.dot(Z_b)).dot(Z_b.T).dot(y)\n",
    "print(\"Coeficientes estimados:\", beta_cuad)\n",
    "y_predicted = beta_cuad[0].round(4) + beta_cuad[1].round(4)*x1 + beta_cuad[2].round(4)*x2 + beta_cuad[3].round(4)*x3 + beta_cuad[4].round(4)*x4 + beta_cuad[5].round(4)*x5\n",
    "print(\"ŷ =\", y_predicted)\n",
    "y_pred_cuad = Z_b.dot(beta_cuad)"
   ]
  },
  {
   "cell_type": "markdown",
   "id": "89577462",
   "metadata": {},
   "source": [
    "### Conclusión\n",
    "Comparando ambos métodos, se observa que los coeficientes estimados son muy similares en valor y signo, lo que indica una convergencia exitosa del descenso del gradiente hacia la misma solución óptima.\n",
    " Las pequeñas diferencias decimales se explican por los criterios de parada y tolerancia del algoritmo iterativo, pero no alteran la interpretación del modelo.\n",
    "\n",
    "En síntesis, ambos métodos describen una relación lineal consistente entre la calidad del vino y las variables predictoras seleccionadas. Las mayores contribuciones positivas corresponden al alcohol y a los sulfitos, mientras que la acidez volátil presenta un efecto negativo, confirmando los patrones observados en los modelos univariados y en la literatura enológica."
   ]
  },
  {
   "cell_type": "markdown",
   "id": "80764aed",
   "metadata": {},
   "source": [
    "## f) ¿La adición de más variables predictoras mejoró la estimación en comparación con la obtenida en el inciso c)? Explique."
   ]
  },
  {
   "cell_type": "markdown",
   "id": "8e1cdd67",
   "metadata": {},
   "source": [
    "Para ver si la adiccion de variables mejora la estimacion hay que calcular el coeficiente de correlacion multiple (rₐ), y compararlo con el coeficiente de correlacion (r) de la variable alcohol"
   ]
  },
  {
   "cell_type": "markdown",
   "id": "ea1e503d",
   "metadata": {},
   "source": [
    "### Cálculo de $r_a$"
   ]
  },
  {
   "cell_type": "code",
   "execution_count": 46,
   "id": "479dcdab",
   "metadata": {},
   "outputs": [
    {
     "name": "stdout",
     "output_type": "stream",
     "text": [
      "R²: 0.3368070479860976\n",
      "Rₐ² ajustado: 0.3363907310042936\n",
      "rₐ (correlación): 0.579992009431418\n"
     ]
    }
   ],
   "source": [
    "SSr = ((y - y_pred_cuad)**2).sum()\n",
    "SSt = ((y - y.mean())**2).sum()\n",
    "R2 = 1 - SSr/SSt\n",
    "print(\"R²:\", R2)\n",
    "k = 5\n",
    "Ra2 = 1 - (1-R2)*(len(y)-k)/(len(y) - k - 1)\n",
    "print(\"Rₐ² ajustado:\", Ra2)\n",
    "ra = sqrt(Ra2)\n",
    "print(\"rₐ (correlación):\", ra)"
   ]
  },
  {
   "cell_type": "markdown",
   "id": "7497992c",
   "metadata": {},
   "source": [
    "1. Resultado de multiples variables predictoras:\n",
    "    - rₐ (correlación): 0.579992009431418\n",
    "\n",
    "2. Resultado de una unica variable predictora:\n",
    "    - r (correlación): 0.4761\n",
    "\n",
    "3. Conclusion:\n",
    "    - Como |rₐ| > |r| se demuesta que la correlacion al utilizar una unica variable predictora (alcohol) es mas debil que la correlacion utilizando mas variables predictoras (volatile acidity, density, sulphates, alcohol, citric acid). Por lo tanto se demuestra que la adicion de mas variables predictoras mejoro la estimacion en comparacion con la estimacion del inciso c)."
   ]
  }
 ],
 "metadata": {
  "kernelspec": {
   "display_name": "deep_learning_practica",
   "language": "python",
   "name": "python3"
  },
  "language_info": {
   "codemirror_mode": {
    "name": "ipython",
    "version": 3
   },
   "file_extension": ".py",
   "mimetype": "text/x-python",
   "name": "python",
   "nbconvert_exporter": "python",
   "pygments_lexer": "ipython3",
   "version": "3.11.13"
  }
 },
 "nbformat": 4,
 "nbformat_minor": 5
}
