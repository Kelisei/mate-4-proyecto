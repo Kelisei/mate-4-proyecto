{
 "cells": [
  {
   "cell_type": "code",
   "execution_count": null,
   "id": "7bd96ae6",
   "metadata": {},
   "outputs": [],
   "source": [
    "import pandas as pd\n",
    "\n",
    "df= pd.read_csv('winequality-red.csv', delimiter=';')\n",
    "\n",
    "y = df['quality']\n",
    "X = df.drop(columns=['quality'])\n",
    "variables_predictoras = df[['volatile acidity', 'density', 'sulphates', 'alcohol', 'citric acid']]"
   ]
  },
  {
   "cell_type": "code",
   "execution_count": null,
   "id": "8fa6ac0f",
   "metadata": {},
   "outputs": [],
   "source": [
    "for col in variables_predictoras.columns:\n",
    "    x_promedio = variables_predictoras[col].mean()\n",
    "    y_promedio = y.mean()\n",
    "    Sxx = ((variables_predictoras[col] - x_promedio) ** 2).sum()\n",
    "    Sxy = ((variables_predictoras[col] - x_promedio) * (y - y_promedio)).sum()\n",
    "    Syy = ((y - y_promedio) ** 2).sum()\n",
    "    b1 = Sxy / Sxx\n",
    "    b0 = y_promedio - b1 * x_promedio\n"
   ]
  }
 ],
 "metadata": {
  "kernelspec": {
   "display_name": ".venv",
   "language": "python",
   "name": "python3"
  },
  "language_info": {
   "codemirror_mode": {
    "name": "ipython",
    "version": 3
   },
   "file_extension": ".py",
   "mimetype": "text/x-python",
   "name": "python",
   "nbconvert_exporter": "python",
   "pygments_lexer": "ipython3",
   "version": "3.12.6"
  }
 },
 "nbformat": 4,
 "nbformat_minor": 5
}
