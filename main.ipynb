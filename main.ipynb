{
 "cells": [
  {
   "cell_type": "code",
   "execution_count": 1,
   "id": "7bd96ae6",
   "metadata": {},
   "outputs": [
    {
     "data": {
      "text/html": [
       "<div>\n",
       "<style scoped>\n",
       "    .dataframe tbody tr th:only-of-type {\n",
       "        vertical-align: middle;\n",
       "    }\n",
       "\n",
       "    .dataframe tbody tr th {\n",
       "        vertical-align: top;\n",
       "    }\n",
       "\n",
       "    .dataframe thead th {\n",
       "        text-align: right;\n",
       "    }\n",
       "</style>\n",
       "<table border=\"1\" class=\"dataframe\">\n",
       "  <thead>\n",
       "    <tr style=\"text-align: right;\">\n",
       "      <th></th>\n",
       "      <th>fixed acidity</th>\n",
       "      <th>volatile acidity</th>\n",
       "      <th>citric acid</th>\n",
       "      <th>residual sugar</th>\n",
       "      <th>chlorides</th>\n",
       "      <th>free sulfur dioxide</th>\n",
       "      <th>total sulfur dioxide</th>\n",
       "      <th>density</th>\n",
       "      <th>pH</th>\n",
       "      <th>sulphates</th>\n",
       "      <th>alcohol</th>\n",
       "      <th>quality</th>\n",
       "    </tr>\n",
       "  </thead>\n",
       "  <tbody>\n",
       "    <tr>\n",
       "      <th>0</th>\n",
       "      <td>7.4</td>\n",
       "      <td>0.700</td>\n",
       "      <td>0.00</td>\n",
       "      <td>1.9</td>\n",
       "      <td>0.076</td>\n",
       "      <td>11.0</td>\n",
       "      <td>34.0</td>\n",
       "      <td>0.99780</td>\n",
       "      <td>3.51</td>\n",
       "      <td>0.56</td>\n",
       "      <td>9.4</td>\n",
       "      <td>5</td>\n",
       "    </tr>\n",
       "    <tr>\n",
       "      <th>1</th>\n",
       "      <td>7.8</td>\n",
       "      <td>0.880</td>\n",
       "      <td>0.00</td>\n",
       "      <td>2.6</td>\n",
       "      <td>0.098</td>\n",
       "      <td>25.0</td>\n",
       "      <td>67.0</td>\n",
       "      <td>0.99680</td>\n",
       "      <td>3.20</td>\n",
       "      <td>0.68</td>\n",
       "      <td>9.8</td>\n",
       "      <td>5</td>\n",
       "    </tr>\n",
       "    <tr>\n",
       "      <th>2</th>\n",
       "      <td>7.8</td>\n",
       "      <td>0.760</td>\n",
       "      <td>0.04</td>\n",
       "      <td>2.3</td>\n",
       "      <td>0.092</td>\n",
       "      <td>15.0</td>\n",
       "      <td>54.0</td>\n",
       "      <td>0.99700</td>\n",
       "      <td>3.26</td>\n",
       "      <td>0.65</td>\n",
       "      <td>9.8</td>\n",
       "      <td>5</td>\n",
       "    </tr>\n",
       "    <tr>\n",
       "      <th>3</th>\n",
       "      <td>11.2</td>\n",
       "      <td>0.280</td>\n",
       "      <td>0.56</td>\n",
       "      <td>1.9</td>\n",
       "      <td>0.075</td>\n",
       "      <td>17.0</td>\n",
       "      <td>60.0</td>\n",
       "      <td>0.99800</td>\n",
       "      <td>3.16</td>\n",
       "      <td>0.58</td>\n",
       "      <td>9.8</td>\n",
       "      <td>6</td>\n",
       "    </tr>\n",
       "    <tr>\n",
       "      <th>4</th>\n",
       "      <td>7.4</td>\n",
       "      <td>0.700</td>\n",
       "      <td>0.00</td>\n",
       "      <td>1.9</td>\n",
       "      <td>0.076</td>\n",
       "      <td>11.0</td>\n",
       "      <td>34.0</td>\n",
       "      <td>0.99780</td>\n",
       "      <td>3.51</td>\n",
       "      <td>0.56</td>\n",
       "      <td>9.4</td>\n",
       "      <td>5</td>\n",
       "    </tr>\n",
       "    <tr>\n",
       "      <th>...</th>\n",
       "      <td>...</td>\n",
       "      <td>...</td>\n",
       "      <td>...</td>\n",
       "      <td>...</td>\n",
       "      <td>...</td>\n",
       "      <td>...</td>\n",
       "      <td>...</td>\n",
       "      <td>...</td>\n",
       "      <td>...</td>\n",
       "      <td>...</td>\n",
       "      <td>...</td>\n",
       "      <td>...</td>\n",
       "    </tr>\n",
       "    <tr>\n",
       "      <th>1594</th>\n",
       "      <td>6.2</td>\n",
       "      <td>0.600</td>\n",
       "      <td>0.08</td>\n",
       "      <td>2.0</td>\n",
       "      <td>0.090</td>\n",
       "      <td>32.0</td>\n",
       "      <td>44.0</td>\n",
       "      <td>0.99490</td>\n",
       "      <td>3.45</td>\n",
       "      <td>0.58</td>\n",
       "      <td>10.5</td>\n",
       "      <td>5</td>\n",
       "    </tr>\n",
       "    <tr>\n",
       "      <th>1595</th>\n",
       "      <td>5.9</td>\n",
       "      <td>0.550</td>\n",
       "      <td>0.10</td>\n",
       "      <td>2.2</td>\n",
       "      <td>0.062</td>\n",
       "      <td>39.0</td>\n",
       "      <td>51.0</td>\n",
       "      <td>0.99512</td>\n",
       "      <td>3.52</td>\n",
       "      <td>0.76</td>\n",
       "      <td>11.2</td>\n",
       "      <td>6</td>\n",
       "    </tr>\n",
       "    <tr>\n",
       "      <th>1596</th>\n",
       "      <td>6.3</td>\n",
       "      <td>0.510</td>\n",
       "      <td>0.13</td>\n",
       "      <td>2.3</td>\n",
       "      <td>0.076</td>\n",
       "      <td>29.0</td>\n",
       "      <td>40.0</td>\n",
       "      <td>0.99574</td>\n",
       "      <td>3.42</td>\n",
       "      <td>0.75</td>\n",
       "      <td>11.0</td>\n",
       "      <td>6</td>\n",
       "    </tr>\n",
       "    <tr>\n",
       "      <th>1597</th>\n",
       "      <td>5.9</td>\n",
       "      <td>0.645</td>\n",
       "      <td>0.12</td>\n",
       "      <td>2.0</td>\n",
       "      <td>0.075</td>\n",
       "      <td>32.0</td>\n",
       "      <td>44.0</td>\n",
       "      <td>0.99547</td>\n",
       "      <td>3.57</td>\n",
       "      <td>0.71</td>\n",
       "      <td>10.2</td>\n",
       "      <td>5</td>\n",
       "    </tr>\n",
       "    <tr>\n",
       "      <th>1598</th>\n",
       "      <td>6.0</td>\n",
       "      <td>0.310</td>\n",
       "      <td>0.47</td>\n",
       "      <td>3.6</td>\n",
       "      <td>0.067</td>\n",
       "      <td>18.0</td>\n",
       "      <td>42.0</td>\n",
       "      <td>0.99549</td>\n",
       "      <td>3.39</td>\n",
       "      <td>0.66</td>\n",
       "      <td>11.0</td>\n",
       "      <td>6</td>\n",
       "    </tr>\n",
       "  </tbody>\n",
       "</table>\n",
       "<p>1599 rows × 12 columns</p>\n",
       "</div>"
      ],
      "text/plain": [
       "      fixed acidity  volatile acidity  citric acid  residual sugar  chlorides  \\\n",
       "0               7.4             0.700         0.00             1.9      0.076   \n",
       "1               7.8             0.880         0.00             2.6      0.098   \n",
       "2               7.8             0.760         0.04             2.3      0.092   \n",
       "3              11.2             0.280         0.56             1.9      0.075   \n",
       "4               7.4             0.700         0.00             1.9      0.076   \n",
       "...             ...               ...          ...             ...        ...   \n",
       "1594            6.2             0.600         0.08             2.0      0.090   \n",
       "1595            5.9             0.550         0.10             2.2      0.062   \n",
       "1596            6.3             0.510         0.13             2.3      0.076   \n",
       "1597            5.9             0.645         0.12             2.0      0.075   \n",
       "1598            6.0             0.310         0.47             3.6      0.067   \n",
       "\n",
       "      free sulfur dioxide  total sulfur dioxide  density    pH  sulphates  \\\n",
       "0                    11.0                  34.0  0.99780  3.51       0.56   \n",
       "1                    25.0                  67.0  0.99680  3.20       0.68   \n",
       "2                    15.0                  54.0  0.99700  3.26       0.65   \n",
       "3                    17.0                  60.0  0.99800  3.16       0.58   \n",
       "4                    11.0                  34.0  0.99780  3.51       0.56   \n",
       "...                   ...                   ...      ...   ...        ...   \n",
       "1594                 32.0                  44.0  0.99490  3.45       0.58   \n",
       "1595                 39.0                  51.0  0.99512  3.52       0.76   \n",
       "1596                 29.0                  40.0  0.99574  3.42       0.75   \n",
       "1597                 32.0                  44.0  0.99547  3.57       0.71   \n",
       "1598                 18.0                  42.0  0.99549  3.39       0.66   \n",
       "\n",
       "      alcohol  quality  \n",
       "0         9.4        5  \n",
       "1         9.8        5  \n",
       "2         9.8        5  \n",
       "3         9.8        6  \n",
       "4         9.4        5  \n",
       "...       ...      ...  \n",
       "1594     10.5        5  \n",
       "1595     11.2        6  \n",
       "1596     11.0        6  \n",
       "1597     10.2        5  \n",
       "1598     11.0        6  \n",
       "\n",
       "[1599 rows x 12 columns]"
      ]
     },
     "metadata": {},
     "output_type": "display_data"
    }
   ],
   "source": [
    "import pandas as pd\n",
    "from scipy.stats import t\n",
    "from sympy import symbols, sqrt\n",
    "import numpy as np\n",
    "\n",
    "df= pd.read_csv('winequality-red.csv', delimiter=';')\n",
    "\n",
    "display(df.head())\n",
    "\n",
    "y = df['quality']\n",
    "X = df.drop(columns=['quality'])\n",
    "variables_predictoras = df[['volatile acidity', 'density', 'sulphates', 'alcohol', 'citric acid']]"
   ]
  },
  {
   "cell_type": "markdown",
   "id": "690cc111",
   "metadata": {},
   "source": [
    "# Regresion lineal"
   ]
  },
  {
   "cell_type": "markdown",
   "id": "f7268fee",
   "metadata": {},
   "source": [
    "### Variables generales"
   ]
  },
  {
   "cell_type": "code",
   "execution_count": 2,
   "id": "c01b3fef",
   "metadata": {},
   "outputs": [],
   "source": [
    "alpha = 0.05\n",
    "n = len(y)\n",
    "t_critico = t.ppf(1-alpha/2, n-2)\n",
    "\n",
    "y_promedio = y.mean()\n",
    "Syy = ((y - y_promedio) ** 2).sum()"
   ]
  },
  {
   "cell_type": "markdown",
   "id": "03c1f4ef",
   "metadata": {},
   "source": [
    "### Calculo de regresion lineal"
   ]
  },
  {
   "cell_type": "code",
   "execution_count": 14,
   "id": "0516ad12",
   "metadata": {},
   "outputs": [],
   "source": [
    "alpha = 0.05\n",
    "n = len(y)\n",
    "t_critico = t.ppf(1-alpha/2, n-2)\n",
    "\n",
    "y_promedio = y.mean()\n",
    "Syy = ((y - y_promedio) ** 2).sum()\n",
    "\n",
    "def regresion_lineal(X, x):\n",
    "\n",
    "    x_promedio = X.mean()\n",
    "    Sxx = ((X - x_promedio) ** 2).sum()\n",
    "    Sxy = ((X - x_promedio) * (y - y_promedio)).sum()\n",
    "    b1 = Sxy / Sxx\n",
    "    b0 = y_promedio - b1 * x_promedio\n",
    "    y_estimado = b1*x + b0\n",
    "\n",
    "    SSR = Syy - b1 * Sxy\n",
    "    varianza_estimada = SSR / (n - 2)\n",
    "\n",
    "    R2 = 1 - (SSR / Syy)\n",
    "\n",
    "    r = sqrt(R2)\n",
    "\n",
    "    e_b0 = t_critico * sqrt(varianza_estimada) * (1/n + (x_promedio**2 / Sxx))\n",
    "    IC_b0_superior = b0 + e_b0\n",
    "    IC_b0_inferior = b0 - e_b0\n",
    "\n",
    "    e_b1 = t_critico * sqrt(varianza_estimada / Sxx)\n",
    "    IC_b1_superior = b1 + e_b1\n",
    "    IC_b1_inferior = b1 - e_b1\n",
    "\n",
    "    e_media = t_critico * sqrt(varianza_estimada * (1/n + ((x_promedio - x_promedio)**2 / Sxx))) #chequear\n",
    "    IC_media_superior = b0 + b1*x_promedio + e_media #chequear\n",
    "    IC_media_inferior = b0 + b1*x_promedio - e_media #chequear\n",
    "\n",
    "    e_pred = t_critico * sqrt(varianza_estimada * (1 + 1/n + ((x_promedio - x_promedio)**2 / Sxx))) #chequear\n",
    "    IC_pred_superior = y_promedio + e_pred  #chequear\n",
    "    IC_pred_inferior = y_promedio + b1*x_promedio - e_pred  #chequear\n",
    "\n",
    "    print(f'y_estimado: {y_estimado}\\n')\n",
    "    print(f'Varianza estimada: {varianza_estimada}')\n",
    "    print(f'R²: {R2}')\n",
    "    print(f'r (correlación): {r}\\n')\n",
    "    print(f'IC b0: ({IC_b0_inferior}, {IC_b0_superior})')\n",
    "    print(f'IC b1: ({IC_b1_inferior}, {IC_b1_superior})')\n",
    "    print(f'IC media para x={x_promedio}: ({IC_media_inferior   }, {IC_media_superior})')\n",
    "    print(f'IC predicción para x={x_promedio}: ({IC_pred_inferior}, {IC_pred_superior})\\n')"
   ]
  },
  {
   "cell_type": "markdown",
   "id": "4ddb08a6",
   "metadata": {},
   "source": [
    "### Regresion lineal entre volatile acidity y quality"
   ]
  },
  {
   "cell_type": "code",
   "execution_count": 15,
   "id": "490a9852-93e2-4479-b468-e737754db48e",
   "metadata": {},
   "outputs": [
    {
     "name": "stdout",
     "output_type": "stream",
     "text": [
      "y_estimado: 6.56574550647179 - 1.76143778011267*x1\n",
      "\n",
      "Varianza estimada: 0.553035725384222\n",
      "R²: 0.1525353797247485\n",
      "r (correlación): 0.390557780264007\n",
      "\n",
      "IC b0: (6.55690179861322, 6.57458921433036)\n",
      "IC b1: (-1.96522066509685, -1.55765489512849)\n",
      "IC media para x=0.5278205128205128: (5.59954462279746, 5.67250040534513)\n",
      "IC predicción para x=0.5278205128205128: (3.24718387071728, 7.09513816502481)\n",
      "\n"
     ]
    }
   ],
   "source": [
    "x1 = symbols('x1', real=True)\n",
    "volatile_acidity = variables_predictoras['volatile acidity']\n",
    "regresion_lineal(volatile_acidity,x1)"
   ]
  },
  {
   "cell_type": "markdown",
   "id": "09f668b1",
   "metadata": {},
   "source": [
    "### Regresion lineal entre density y quality"
   ]
  },
  {
   "cell_type": "code",
   "execution_count": 16,
   "id": "54a6e469",
   "metadata": {},
   "outputs": [
    {
     "name": "stdout",
     "output_type": "stream",
     "text": [
      "y_estimado: 80.2385380207901 - 74.8460136014754*x2\n",
      "\n",
      "Varianza estimada: 0.6326100515967428\n",
      "R²: 0.030596736248323042\n",
      "r (correlación): 0.174919227783349\n",
      "\n",
      "IC b0: (-192.058098426587, 352.535174468168)\n",
      "IC b1: (-95.5240010029260, -54.1680262000247)\n",
      "IC media para x=0.9967466791744841: (5.59700845159572, 5.67503657654688)\n",
      "IC predicción para x=0.9967466791744841: (-70.5270554916707, 7.19658501309444)\n",
      "\n"
     ]
    }
   ],
   "source": [
    "x2 = symbols('x2', real=True)\n",
    "density = variables_predictoras['density']\n",
    "regresion_lineal(density,x2)"
   ]
  },
  {
   "cell_type": "markdown",
   "id": "a100f65a",
   "metadata": {},
   "source": [
    "### Regresion lineal entre sulphates y quality"
   ]
  },
  {
   "cell_type": "code",
   "execution_count": 17,
   "id": "e2fde30c",
   "metadata": {},
   "outputs": [
    {
     "name": "stdout",
     "output_type": "stream",
     "text": [
      "y_estimado: 1.19771232303139*x3 + 4.84774953438914\n",
      "\n",
      "Varianza estimada: 0.6113335983625071\n",
      "R²: 0.06320049136455652\n",
      "r (correlación): 0.251397079069262\n",
      "\n",
      "IC b0: (4.83232228219706, 4.86317678658121)\n",
      "IC b1: (0.971383157343825, 1.42404148871895)\n",
      "IC media para x=0.6581488430268917: (5.59767013904301, 5.67437488909958)\n",
      "IC predicción para x=0.6581488430268917: (4.89020049262212, 7.17011751520263)\n",
      "\n"
     ]
    }
   ],
   "source": [
    "x3 = symbols('x3', real=True)\n",
    "sulphates = variables_predictoras['sulphates']\n",
    "regresion_lineal(sulphates,x3)"
   ]
  },
  {
   "cell_type": "markdown",
   "id": "a24496bb",
   "metadata": {},
   "source": [
    "### Regresion lineal entre alcohol y quality"
   ]
  },
  {
   "cell_type": "code",
   "execution_count": 7,
   "id": "cb28488d",
   "metadata": {},
   "outputs": [
    {
     "name": "stdout",
     "output_type": "stream",
     "text": [
      "y_estimado: 0.360841765335035*x4 + 1.87497488699715\n",
      "\n",
      "Varianza estimada: 0.5046151891350406\n",
      "R²: 0.22673436811275482\n",
      "r (correlación): 0.476166324001136\n",
      "\n",
      "IC b0: (1.79069289224503, 1.95925688174927)\n",
      "IC b1: (0.328134263058847, 0.393549267611222)\n",
      "IC media para x=10.422983114446529: (5.60117809001790, 5.67086693812469)\n",
      "IC predicción para x=10.422983114446529: (8.00329317900970, 7.02979947620704)\n",
      "\n"
     ]
    }
   ],
   "source": [
    "x4 = symbols('x4', real=True)\n",
    "alcohol = variables_predictoras['alcohol']\n",
    "regresion_lineal(den,x4)"
   ]
  },
  {
   "cell_type": "markdown",
   "id": "5917bab5",
   "metadata": {},
   "source": [
    "### Regresion lineal entre citric acid y quality"
   ]
  },
  {
   "cell_type": "code",
   "execution_count": 8,
   "id": "5ac49649",
   "metadata": {},
   "outputs": [
    {
     "name": "stdout",
     "output_type": "stream",
     "text": [
      "y_estimado: 0.938452038802962*x5 + 5.38172490062981\n",
      "\n",
      "Varianza estimada: 0.61913579065616\n",
      "R²: 0.051244515238671906\n",
      "r (correlación): 0.226372514318042\n",
      "\n",
      "IC b0: (5.37889085548708, 5.38455894577254)\n",
      "IC b1: (0.740258066464248, 1.13664601114168)\n",
      "IC media para x=0.2709756097560976: (5.59742617739489, 5.67461885074770)\n",
      "IC predicción para x=0.2709756097560976: (4.34646666045674, 7.17987598112733)\n",
      "\n"
     ]
    }
   ],
   "source": [
    "x5 = symbols('x5', real=True)\n",
    "citric_acid = variables_predictoras['citric acid']\n",
    "\n",
    "x_promedio = citric_acid.mean()\n",
    "Sxx = ((citric_acid - x_promedio) ** 2).sum()\n",
    "Sxy = ((citric_acid - x_promedio) * (y - y_promedio)).sum()\n",
    "b1 = Sxy / Sxx\n",
    "b0 = y_promedio - b1 * x_promedio\n",
    "y_estimado = b1*x5 + b0\n",
    "\n",
    "SSR = Syy - b1 * Sxy\n",
    "varianza_estimada = SSR / (n - 2)\n",
    "\n",
    "R2 = 1 - (SSR / Syy)\n",
    "\n",
    "r = sqrt(R2)\n",
    "\n",
    "e_b0 = t_critico * sqrt(varianza_estimada) * (1/n + (x_promedio**2 / Sxx))\n",
    "IC_b0_superior = b0 + e_b0\n",
    "IC_b0_inferior = b0 - e_b0\n",
    "\n",
    "e_b1 = t_critico * sqrt(varianza_estimada / Sxx)\n",
    "IC_b1_superior = b1 + e_b1\n",
    "IC_b1_inferior = b1 - e_b1\n",
    "\n",
    "e_media = t_critico * sqrt(varianza_estimada * (1/n + ((x_promedio - x_promedio)**2 / Sxx))) #chequear\n",
    "IC_media_superior = b0 + b1*x_promedio + e_media #chequear\n",
    "IC_media_inferior = b0 + b1*x_promedio - e_media #chequear\n",
    "\n",
    "e_pred = t_critico * sqrt(varianza_estimada * (1 + 1/n + ((x_promedio - x_promedio)**2 / Sxx))) #chequear\n",
    "IC_pred_superior = y_promedio + e_pred  #chequear\n",
    "IC_pred_inferior = y_promedio + b1*x_promedio - e_pred  #chequear\n",
    "\n",
    "print(f'y_estimado: {y_estimado}\\n')\n",
    "print(f'Varianza estimada: {varianza_estimada}')\n",
    "print(f'R²: {R2}')\n",
    "print(f'r (correlación): {r}\\n')\n",
    "print(f'IC b0: ({IC_b0_inferior}, {IC_b0_superior})')\n",
    "print(f'IC b1: ({IC_b1_inferior}, {IC_b1_superior})')\n",
    "print(f'IC media para x={x_promedio}: ({IC_media_inferior   }, {IC_media_superior})')\n",
    "print(f'IC predicción para x={x_promedio}: ({IC_pred_inferior}, {IC_pred_superior})\\n')"
   ]
  },
  {
   "cell_type": "markdown",
   "id": "301d4d58",
   "metadata": {},
   "source": [
    "# Regresion multiple"
   ]
  },
  {
   "cell_type": "markdown",
   "id": "ec7408c5",
   "metadata": {},
   "source": [
    "### Variables generales"
   ]
  },
  {
   "cell_type": "code",
   "execution_count": 9,
   "id": "06b621df",
   "metadata": {},
   "outputs": [],
   "source": [
    "normalized = (variables_predictoras - variables_predictoras.mean()) / variables_predictoras.std()"
   ]
  },
  {
   "cell_type": "markdown",
   "id": "9b523b42",
   "metadata": {},
   "source": [
    "### Descenso de gradiente"
   ]
  },
  {
   "cell_type": "code",
   "execution_count": 10,
   "id": "7a12ef02",
   "metadata": {},
   "outputs": [
    {
     "name": "stdout",
     "output_type": "stream",
     "text": [
      "Convergió en la época 445\n",
      "Coeficientes estimados: [ 5.63602251 -0.2330435   0.02850809  0.11520635  0.34407633 -0.03019585]\n"
     ]
    }
   ],
   "source": [
    "# REGRESION LINEAL MULTIPLE\n",
    "\n",
    "# Agregar columna de 1s para el intercepto\n",
    "X_b = np.c_[np.ones((normalized.shape[0], 1)), normalized]\n",
    "\n",
    "# Inicialización\n",
    "m, n = X_b.shape\n",
    "beta_grad = np.zeros(n)\n",
    "alpha = 0.1\n",
    "epochs = 1000\n",
    "min_err = 1e-6\n",
    "# Descenso del gradiente\n",
    "for epoch in range(epochs):\n",
    "    y_pred = X_b.dot(beta_grad)\n",
    "    error = y_pred - y\n",
    "    grad = (1/m) * X_b.T.dot(error)\n",
    "    beta_grad -= alpha * grad\n",
    "\n",
    "    # Verificar si el error es menor que el mínimo permitido\n",
    "    if np.linalg.norm(grad, ord=1) < min_err:\n",
    "        print(f\"Convergió en la época {epoch}\")\n",
    "        break\n",
    "\n",
    "print(\"Coeficientes estimados:\", beta_grad)\n",
    "y_pred_grad = X_b.dot(beta_grad)"
   ]
  },
  {
   "cell_type": "markdown",
   "id": "1258d94f",
   "metadata": {},
   "source": [
    "### Minimos cuadrados"
   ]
  },
  {
   "cell_type": "code",
   "execution_count": 11,
   "id": "03bdb60c",
   "metadata": {},
   "outputs": [
    {
     "name": "stdout",
     "output_type": "stream",
     "text": [
      "Coeficientes estimados: [ 5.63602251 -0.23304422  0.02850916  0.11520628  0.34407703 -0.03019699]\n"
     ]
    }
   ],
   "source": [
    "# Cálculo de los coeficientes usando minimos cuadrados\n",
    "\n",
    "# Añadimos columna de 1s para el intercepto\n",
    "Z_b = np.c_[np.ones(normalized.shape[0]), normalized]\n",
    "# Coeficientes de regresión\n",
    "beta_cuad = np.linalg.inv(Z_b.T.dot(Z_b)).dot(Z_b.T).dot(y)\n",
    "print(\"Coeficientes estimados:\", beta_cuad)\n",
    "y_pred_cuad = Z_b.dot(beta_cuad)"
   ]
  },
  {
   "cell_type": "markdown",
   "id": "ea1e503d",
   "metadata": {},
   "source": [
    "### Calculo de ra"
   ]
  },
  {
   "cell_type": "code",
   "execution_count": 12,
   "id": "479dcdab",
   "metadata": {},
   "outputs": [
    {
     "name": "stdout",
     "output_type": "stream",
     "text": [
      "R^2: 0.3368070479860976\n",
      "R^2 ajustado: 0.3363907310042936\n",
      "r (correlación): 0.579992009431418\n"
     ]
    }
   ],
   "source": [
    "SSr = ((y - y_pred_cuad)**2).sum()\n",
    "SSt = ((y - y.mean())**2).sum()\n",
    "R2 = 1 - SSr/SSt\n",
    "print(\"R^2:\", R2)\n",
    "k = 5\n",
    "Ra2 = 1 - (1-R2)*(len(y)-k)/(len(y) - k - 1)\n",
    "print(\"R^2 ajustado:\", Ra2)\n",
    "ra = sqrt(Ra2)\n",
    "print(\"r (correlación):\", ra)"
   ]
  }
 ],
 "metadata": {
  "kernelspec": {
   "display_name": "Python 3 (ipykernel)",
   "language": "python",
   "name": "python3"
  },
  "language_info": {
   "codemirror_mode": {
    "name": "ipython",
    "version": 3
   },
   "file_extension": ".py",
   "mimetype": "text/x-python",
   "name": "python",
   "nbconvert_exporter": "python",
   "pygments_lexer": "ipython3",
   "version": "3.12.6"
  }
 },
 "nbformat": 4,
 "nbformat_minor": 5
}
